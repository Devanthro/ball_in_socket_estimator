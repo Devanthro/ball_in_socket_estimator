{
 "cells": [
  {
   "cell_type": "code",
   "execution_count": 22,
   "metadata": {},
   "outputs": [
    {
     "ename": "ImportError",
     "evalue": "No module named 'rospkg'",
     "output_type": "error",
     "traceback": [
      "\u001b[0;31m---------------------------------------------------------------------------\u001b[0m",
      "\u001b[0;31mImportError\u001b[0m                               Traceback (most recent call last)",
      "\u001b[0;32m<ipython-input-22-1750eafc0ece>\u001b[0m in \u001b[0;36m<module>\u001b[0;34m()\u001b[0m\n\u001b[1;32m      2\u001b[0m \u001b[0;32mimport\u001b[0m \u001b[0mnumpy\u001b[0m \u001b[0;32mas\u001b[0m \u001b[0mnp\u001b[0m\u001b[0;34m\u001b[0m\u001b[0m\n\u001b[1;32m      3\u001b[0m \u001b[0;32mimport\u001b[0m \u001b[0mpandas\u001b[0m\u001b[0;34m\u001b[0m\u001b[0m\n\u001b[0;32m----> 4\u001b[0;31m \u001b[0;32mimport\u001b[0m \u001b[0mrospy\u001b[0m\u001b[0;34m\u001b[0m\u001b[0m\n\u001b[0m\u001b[1;32m      5\u001b[0m \u001b[0mmodel\u001b[0m \u001b[0;34m=\u001b[0m \u001b[0mSequential\u001b[0m\u001b[0;34m(\u001b[0m\u001b[0;34m)\u001b[0m\u001b[0;34m\u001b[0m\u001b[0m\n",
      "\u001b[0;32m/opt/ros/kinetic/lib/python2.7/dist-packages/rospy/__init__.py\u001b[0m in \u001b[0;36m<module>\u001b[0;34m()\u001b[0m\n\u001b[1;32m     47\u001b[0m \u001b[0;32mfrom\u001b[0m \u001b[0mstd_msgs\u001b[0m\u001b[0;34m.\u001b[0m\u001b[0mmsg\u001b[0m \u001b[0;32mimport\u001b[0m \u001b[0mHeader\u001b[0m\u001b[0;34m\u001b[0m\u001b[0m\n\u001b[1;32m     48\u001b[0m \u001b[0;34m\u001b[0m\u001b[0m\n\u001b[0;32m---> 49\u001b[0;31m \u001b[0;32mfrom\u001b[0m \u001b[0;34m.\u001b[0m\u001b[0mclient\u001b[0m \u001b[0;32mimport\u001b[0m \u001b[0mspin\u001b[0m\u001b[0;34m,\u001b[0m \u001b[0mmyargv\u001b[0m\u001b[0;34m,\u001b[0m \u001b[0minit_node\u001b[0m\u001b[0;34m,\u001b[0m\u001b[0;31m \u001b[0m\u001b[0;31m\\\u001b[0m\u001b[0;34m\u001b[0m\u001b[0m\n\u001b[0m\u001b[1;32m     50\u001b[0m     \u001b[0mget_published_topics\u001b[0m\u001b[0;34m,\u001b[0m\u001b[0;31m \u001b[0m\u001b[0;31m\\\u001b[0m\u001b[0;34m\u001b[0m\u001b[0m\n\u001b[1;32m     51\u001b[0m     \u001b[0mwait_for_message\u001b[0m\u001b[0;34m,\u001b[0m\u001b[0;31m \u001b[0m\u001b[0;31m\\\u001b[0m\u001b[0;34m\u001b[0m\u001b[0m\n",
      "\u001b[0;32m/opt/ros/kinetic/lib/python2.7/dist-packages/rospy/client.py\u001b[0m in \u001b[0;36m<module>\u001b[0;34m()\u001b[0m\n\u001b[1;32m     50\u001b[0m \u001b[0;32mimport\u001b[0m \u001b[0mrosgraph\u001b[0m\u001b[0;34m.\u001b[0m\u001b[0mnames\u001b[0m\u001b[0;34m\u001b[0m\u001b[0m\n\u001b[1;32m     51\u001b[0m \u001b[0;34m\u001b[0m\u001b[0m\n\u001b[0;32m---> 52\u001b[0;31m \u001b[0;32mimport\u001b[0m \u001b[0mroslib\u001b[0m\u001b[0;34m\u001b[0m\u001b[0m\n\u001b[0m\u001b[1;32m     53\u001b[0m \u001b[0;34m\u001b[0m\u001b[0m\n\u001b[1;32m     54\u001b[0m \u001b[0;32mimport\u001b[0m \u001b[0mrospy\u001b[0m\u001b[0;34m.\u001b[0m\u001b[0mcore\u001b[0m\u001b[0;34m\u001b[0m\u001b[0m\n",
      "\u001b[0;32m/opt/ros/kinetic/lib/python2.7/dist-packages/roslib/__init__.py\u001b[0m in \u001b[0;36m<module>\u001b[0;34m()\u001b[0m\n\u001b[1;32m     48\u001b[0m \u001b[0m__version__\u001b[0m \u001b[0;34m=\u001b[0m \u001b[0;34m'1.7.0'\u001b[0m\u001b[0;34m\u001b[0m\u001b[0m\n\u001b[1;32m     49\u001b[0m \u001b[0;34m\u001b[0m\u001b[0m\n\u001b[0;32m---> 50\u001b[0;31m \u001b[0;32mfrom\u001b[0m \u001b[0mroslib\u001b[0m\u001b[0;34m.\u001b[0m\u001b[0mlauncher\u001b[0m \u001b[0;32mimport\u001b[0m \u001b[0mload_manifest\u001b[0m\u001b[0;34m\u001b[0m\u001b[0m\n\u001b[0m\u001b[1;32m     51\u001b[0m \u001b[0;34m\u001b[0m\u001b[0m\n\u001b[1;32m     52\u001b[0m \u001b[0;31m# this import is necessary due to a bug in purge_build.py in our\u001b[0m\u001b[0;34m\u001b[0m\u001b[0;34m\u001b[0m\u001b[0m\n",
      "\u001b[0;32m/opt/ros/kinetic/lib/python2.7/dist-packages/roslib/launcher.py\u001b[0m in \u001b[0;36m<module>\u001b[0;34m()\u001b[0m\n\u001b[1;32m     40\u001b[0m \u001b[0;32mimport\u001b[0m \u001b[0msys\u001b[0m\u001b[0;34m\u001b[0m\u001b[0m\n\u001b[1;32m     41\u001b[0m \u001b[0;34m\u001b[0m\u001b[0m\n\u001b[0;32m---> 42\u001b[0;31m \u001b[0;32mimport\u001b[0m \u001b[0mrospkg\u001b[0m\u001b[0;34m\u001b[0m\u001b[0m\n\u001b[0m\u001b[1;32m     43\u001b[0m \u001b[0;34m\u001b[0m\u001b[0m\n\u001b[1;32m     44\u001b[0m \u001b[0;31m# bootstrapped keeps track of which packages we've loaded so we don't\u001b[0m\u001b[0;34m\u001b[0m\u001b[0;34m\u001b[0m\u001b[0m\n",
      "\u001b[0;31mImportError\u001b[0m: No module named 'rospkg'"
     ]
    }
   ],
   "source": [
    "from keras.models import Sequential\n",
    "import numpy as np\n",
    "import pandas\n",
    "import rospy\n",
    "model = Sequential()"
   ]
  },
  {
   "cell_type": "code",
   "execution_count": 2,
   "metadata": {
    "collapsed": true
   },
   "outputs": [],
   "source": [
    "from keras.layers import Dense, Activation\n",
    "\n",
    "model.add(Dense(units=64, input_dim=9,kernel_initializer='normal', activation='relu'))\n",
    "#model.add(Activation('relu'))\n",
    "model.add(Dense(6, kernel_initializer='normal', activation='relu'))\n",
    "model.add(Dense(units=4,kernel_initializer='normal'))\n",
    "#model.add(Activation('softmax'))"
   ]
  },
  {
   "cell_type": "code",
   "execution_count": 12,
   "metadata": {
    "collapsed": true
   },
   "outputs": [],
   "source": [
    "dataset = pandas.read_csv(\"data0.log\", delim_whitespace=True, header=None)\n",
    "dataset2 = pandas.read_csv(\"data1.log\", delim_whitespace=True, header=None)"
   ]
  },
  {
   "cell_type": "code",
   "execution_count": 13,
   "metadata": {
    "collapsed": true
   },
   "outputs": [],
   "source": [
    "quaternion_set = dataset.values[1:,1:5]\n",
    "q_test = dataset2.values[1:,1:5]\n",
    "sensors_set = dataset.values[1:,8:]\n",
    "s_test = dataset2.values[1:,8:]"
   ]
  },
  {
   "cell_type": "code",
   "execution_count": 5,
   "metadata": {
    "collapsed": true
   },
   "outputs": [],
   "source": [
    "model.compile(loss='mean_squared_error',\n",
    "              optimizer='adam',\n",
    "              metrics=['accuracy'])"
   ]
  },
  {
   "cell_type": "code",
   "execution_count": 6,
   "metadata": {},
   "outputs": [
    {
     "name": "stdout",
     "output_type": "stream",
     "text": [
      "Epoch 1/100\n",
      "2844/2844 [==============================] - 0s - loss: 0.0645 - acc: 0.9047       \n",
      "Epoch 2/100\n",
      "2844/2844 [==============================] - 0s - loss: 0.0069 - acc: 1.0000     \n",
      "Epoch 3/100\n",
      "2844/2844 [==============================] - 0s - loss: 0.0035 - acc: 1.0000     \n",
      "Epoch 4/100\n",
      "2844/2844 [==============================] - 0s - loss: 0.0024 - acc: 1.0000     \n",
      "Epoch 5/100\n",
      "2844/2844 [==============================] - 0s - loss: 0.0020 - acc: 1.0000     \n",
      "Epoch 6/100\n",
      "2844/2844 [==============================] - 0s - loss: 0.0019 - acc: 1.0000     \n",
      "Epoch 7/100\n",
      "2844/2844 [==============================] - 0s - loss: 0.0017 - acc: 1.0000     \n",
      "Epoch 8/100\n",
      "2844/2844 [==============================] - 0s - loss: 0.0015 - acc: 1.0000     \n",
      "Epoch 9/100\n",
      "2844/2844 [==============================] - 0s - loss: 0.0015 - acc: 1.0000     \n",
      "Epoch 10/100\n",
      "2844/2844 [==============================] - 0s - loss: 0.0014 - acc: 1.0000     \n",
      "Epoch 11/100\n",
      "2844/2844 [==============================] - 0s - loss: 0.0013 - acc: 1.0000     \n",
      "Epoch 12/100\n",
      "2844/2844 [==============================] - 0s - loss: 0.0012 - acc: 1.0000     \n",
      "Epoch 13/100\n",
      "2844/2844 [==============================] - 0s - loss: 0.0011 - acc: 1.0000     \n",
      "Epoch 14/100\n",
      "2844/2844 [==============================] - 0s - loss: 0.0011 - acc: 1.0000     \n",
      "Epoch 15/100\n",
      "2844/2844 [==============================] - 0s - loss: 0.0010 - acc: 1.0000      \n",
      "Epoch 16/100\n",
      "2844/2844 [==============================] - 0s - loss: 0.0010 - acc: 1.0000      \n",
      "Epoch 17/100\n",
      "2844/2844 [==============================] - 0s - loss: 9.7357e-04 - acc: 1.0000     \n",
      "Epoch 18/100\n",
      "2844/2844 [==============================] - 0s - loss: 9.5976e-04 - acc: 1.0000     \n",
      "Epoch 19/100\n",
      "2844/2844 [==============================] - 0s - loss: 9.4582e-04 - acc: 1.0000     \n",
      "Epoch 20/100\n",
      "2844/2844 [==============================] - 0s - loss: 8.9353e-04 - acc: 1.0000     \n",
      "Epoch 21/100\n",
      "2844/2844 [==============================] - 0s - loss: 8.4731e-04 - acc: 1.0000     \n",
      "Epoch 22/100\n",
      "2844/2844 [==============================] - 0s - loss: 8.4219e-04 - acc: 1.0000     \n",
      "Epoch 23/100\n",
      "2844/2844 [==============================] - 0s - loss: 8.5108e-04 - acc: 1.0000     \n",
      "Epoch 24/100\n",
      "2844/2844 [==============================] - 0s - loss: 8.2688e-04 - acc: 1.0000     \n",
      "Epoch 25/100\n",
      "2844/2844 [==============================] - 0s - loss: 7.8232e-04 - acc: 1.0000     \n",
      "Epoch 26/100\n",
      "2844/2844 [==============================] - 0s - loss: 7.7066e-04 - acc: 1.0000     \n",
      "Epoch 27/100\n",
      "2844/2844 [==============================] - 0s - loss: 7.8302e-04 - acc: 1.0000     \n",
      "Epoch 28/100\n",
      "2844/2844 [==============================] - 0s - loss: 7.9153e-04 - acc: 1.0000     \n",
      "Epoch 29/100\n",
      "2844/2844 [==============================] - 0s - loss: 7.1560e-04 - acc: 1.0000     \n",
      "Epoch 30/100\n",
      "2844/2844 [==============================] - 0s - loss: 7.4426e-04 - acc: 1.0000     \n",
      "Epoch 31/100\n",
      "2844/2844 [==============================] - 0s - loss: 7.1505e-04 - acc: 1.0000     \n",
      "Epoch 32/100\n",
      "2844/2844 [==============================] - 0s - loss: 7.4414e-04 - acc: 1.0000     \n",
      "Epoch 33/100\n",
      "2844/2844 [==============================] - 0s - loss: 7.1868e-04 - acc: 1.0000     \n",
      "Epoch 34/100\n",
      "2844/2844 [==============================] - 0s - loss: 7.4325e-04 - acc: 1.0000     \n",
      "Epoch 35/100\n",
      "2844/2844 [==============================] - 0s - loss: 6.9299e-04 - acc: 1.0000     \n",
      "Epoch 36/100\n",
      "2844/2844 [==============================] - 0s - loss: 6.5580e-04 - acc: 1.0000     \n",
      "Epoch 37/100\n",
      "2844/2844 [==============================] - 0s - loss: 6.6583e-04 - acc: 1.0000     \n",
      "Epoch 38/100\n",
      "2844/2844 [==============================] - 0s - loss: 6.6353e-04 - acc: 1.0000     \n",
      "Epoch 39/100\n",
      "2844/2844 [==============================] - 0s - loss: 6.5169e-04 - acc: 1.0000     \n",
      "Epoch 40/100\n",
      "2844/2844 [==============================] - 0s - loss: 6.5836e-04 - acc: 1.0000     \n",
      "Epoch 41/100\n",
      "2844/2844 [==============================] - 0s - loss: 6.3677e-04 - acc: 1.0000     \n",
      "Epoch 42/100\n",
      "2844/2844 [==============================] - 0s - loss: 6.2684e-04 - acc: 1.0000     \n",
      "Epoch 43/100\n",
      "2844/2844 [==============================] - 0s - loss: 6.7154e-04 - acc: 1.0000     \n",
      "Epoch 44/100\n",
      "2844/2844 [==============================] - 0s - loss: 7.4637e-04 - acc: 1.0000     \n",
      "Epoch 45/100\n",
      "2844/2844 [==============================] - 0s - loss: 5.9963e-04 - acc: 1.0000     \n",
      "Epoch 46/100\n",
      "2844/2844 [==============================] - 0s - loss: 5.7972e-04 - acc: 1.0000     \n",
      "Epoch 47/100\n",
      "2844/2844 [==============================] - 0s - loss: 5.7492e-04 - acc: 1.0000     \n",
      "Epoch 48/100\n",
      "2844/2844 [==============================] - 0s - loss: 5.5566e-04 - acc: 1.0000     \n",
      "Epoch 49/100\n",
      "2844/2844 [==============================] - 0s - loss: 5.8659e-04 - acc: 1.0000     \n",
      "Epoch 50/100\n",
      "2844/2844 [==============================] - 0s - loss: 5.7824e-04 - acc: 1.0000     \n",
      "Epoch 51/100\n",
      "2844/2844 [==============================] - 0s - loss: 5.8787e-04 - acc: 1.0000     \n",
      "Epoch 52/100\n",
      "2844/2844 [==============================] - 0s - loss: 5.5702e-04 - acc: 1.0000     \n",
      "Epoch 53/100\n",
      "2844/2844 [==============================] - 0s - loss: 5.6050e-04 - acc: 1.0000     \n",
      "Epoch 54/100\n",
      "2844/2844 [==============================] - 0s - loss: 5.5966e-04 - acc: 1.0000     \n",
      "Epoch 55/100\n",
      "2844/2844 [==============================] - 0s - loss: 5.6204e-04 - acc: 1.0000     \n",
      "Epoch 56/100\n",
      "2844/2844 [==============================] - 0s - loss: 5.3961e-04 - acc: 1.0000     \n",
      "Epoch 57/100\n",
      "2844/2844 [==============================] - 0s - loss: 5.3564e-04 - acc: 1.0000     \n",
      "Epoch 58/100\n",
      "2844/2844 [==============================] - 0s - loss: 5.3744e-04 - acc: 1.0000     \n",
      "Epoch 59/100\n",
      "2844/2844 [==============================] - 0s - loss: 5.5874e-04 - acc: 1.0000     \n",
      "Epoch 60/100\n",
      "2844/2844 [==============================] - 0s - loss: 5.0727e-04 - acc: 1.0000     \n",
      "Epoch 61/100\n",
      "2844/2844 [==============================] - 0s - loss: 5.1210e-04 - acc: 1.0000     \n",
      "Epoch 62/100\n",
      "2844/2844 [==============================] - 0s - loss: 4.8577e-04 - acc: 1.0000     \n",
      "Epoch 63/100\n",
      "2844/2844 [==============================] - 0s - loss: 4.9722e-04 - acc: 1.0000     \n",
      "Epoch 64/100\n",
      "2844/2844 [==============================] - 0s - loss: 4.8465e-04 - acc: 1.0000     \n",
      "Epoch 65/100\n",
      "2844/2844 [==============================] - 0s - loss: 5.0001e-04 - acc: 1.0000     \n",
      "Epoch 66/100\n",
      "2844/2844 [==============================] - 0s - loss: 5.0060e-04 - acc: 1.0000     \n",
      "Epoch 67/100\n",
      "2844/2844 [==============================] - 0s - loss: 4.7337e-04 - acc: 1.0000     \n",
      "Epoch 68/100\n",
      "2844/2844 [==============================] - 0s - loss: 4.7308e-04 - acc: 1.0000     \n",
      "Epoch 69/100\n",
      "2844/2844 [==============================] - 0s - loss: 4.7406e-04 - acc: 1.0000     \n",
      "Epoch 70/100\n",
      "2844/2844 [==============================] - 0s - loss: 4.5273e-04 - acc: 1.0000     \n",
      "Epoch 71/100\n",
      "2844/2844 [==============================] - 0s - loss: 4.3864e-04 - acc: 1.0000     \n",
      "Epoch 72/100\n",
      "2844/2844 [==============================] - 0s - loss: 4.3704e-04 - acc: 1.0000     \n",
      "Epoch 73/100\n",
      "2844/2844 [==============================] - 0s - loss: 4.8939e-04 - acc: 1.0000     \n",
      "Epoch 74/100\n",
      "2844/2844 [==============================] - 0s - loss: 4.5658e-04 - acc: 1.0000     \n",
      "Epoch 75/100\n",
      "2844/2844 [==============================] - 0s - loss: 4.4421e-04 - acc: 1.0000     \n",
      "Epoch 76/100\n",
      "2844/2844 [==============================] - 0s - loss: 4.3623e-04 - acc: 1.0000     \n",
      "Epoch 77/100\n",
      "2844/2844 [==============================] - 0s - loss: 4.3218e-04 - acc: 1.0000     \n",
      "Epoch 78/100\n",
      "2844/2844 [==============================] - 0s - loss: 4.3514e-04 - acc: 1.0000     \n",
      "Epoch 79/100\n",
      "2844/2844 [==============================] - 0s - loss: 4.3200e-04 - acc: 1.0000     \n",
      "Epoch 80/100\n",
      "2844/2844 [==============================] - 0s - loss: 4.3403e-04 - acc: 1.0000     \n",
      "Epoch 81/100\n",
      "2844/2844 [==============================] - 0s - loss: 4.3042e-04 - acc: 1.0000     \n",
      "Epoch 82/100\n",
      "2844/2844 [==============================] - 0s - loss: 4.0986e-04 - acc: 1.0000     \n",
      "Epoch 83/100\n",
      "2844/2844 [==============================] - 0s - loss: 4.1452e-04 - acc: 1.0000     \n",
      "Epoch 84/100\n",
      "2844/2844 [==============================] - 0s - loss: 4.1181e-04 - acc: 1.0000     \n",
      "Epoch 85/100\n",
      "2844/2844 [==============================] - 0s - loss: 4.0448e-04 - acc: 1.0000     \n",
      "Epoch 86/100\n",
      "2844/2844 [==============================] - 0s - loss: 4.2918e-04 - acc: 1.0000     \n",
      "Epoch 87/100\n",
      "2844/2844 [==============================] - 0s - loss: 4.2345e-04 - acc: 1.0000     \n",
      "Epoch 88/100\n",
      "2844/2844 [==============================] - 0s - loss: 4.5957e-04 - acc: 1.0000     \n",
      "Epoch 89/100\n",
      "2844/2844 [==============================] - 0s - loss: 4.0895e-04 - acc: 1.0000     \n",
      "Epoch 90/100\n",
      "2844/2844 [==============================] - 0s - loss: 4.0452e-04 - acc: 1.0000     \n",
      "Epoch 91/100\n",
      "2844/2844 [==============================] - 0s - loss: 4.1372e-04 - acc: 1.0000     \n",
      "Epoch 92/100\n",
      "2844/2844 [==============================] - 0s - loss: 3.9766e-04 - acc: 1.0000     \n",
      "Epoch 93/100\n",
      "2844/2844 [==============================] - 0s - loss: 4.0945e-04 - acc: 1.0000     \n",
      "Epoch 94/100\n",
      "2844/2844 [==============================] - 0s - loss: 4.1085e-04 - acc: 1.0000     \n",
      "Epoch 95/100\n",
      "2844/2844 [==============================] - 0s - loss: 3.8866e-04 - acc: 1.0000     \n",
      "Epoch 96/100\n",
      "2844/2844 [==============================] - 0s - loss: 4.1706e-04 - acc: 1.0000     \n",
      "Epoch 97/100\n",
      "2844/2844 [==============================] - 0s - loss: 3.8673e-04 - acc: 1.0000     \n",
      "Epoch 98/100\n",
      "2844/2844 [==============================] - 0s - loss: 3.8526e-04 - acc: 1.0000     \n",
      "Epoch 99/100\n",
      "2844/2844 [==============================] - 0s - loss: 3.9630e-04 - acc: 1.0000     \n",
      "Epoch 100/100\n",
      "2844/2844 [==============================] - 0s - loss: 3.9936e-04 - acc: 1.0000     \n"
     ]
    },
    {
     "data": {
      "text/plain": [
       "<keras.callbacks.History at 0x7f76ae31b908>"
      ]
     },
     "execution_count": 6,
     "metadata": {},
     "output_type": "execute_result"
    }
   ],
   "source": [
    "# x_train and y_train are Numpy arrays --just like in the Scikit-Learn API.\n",
    "model.fit(sensors_set, quaternion_set, epochs=100)"
   ]
  },
  {
   "cell_type": "code",
   "execution_count": 18,
   "metadata": {},
   "outputs": [
    {
     "data": {
      "text/plain": [
       "array([['20.28', '0', '4.68', '46.8', '-34.32', '92.04', '3.12', '6.24',\n",
       "        '-6.24']], dtype=object)"
      ]
     },
     "execution_count": 18,
     "metadata": {},
     "output_type": "execute_result"
    }
   ],
   "source": [
    "x_test=dataset2.values[25,8:]\n",
    "x_test=x_test.reshape((1,9))\n",
    "x_test"
   ]
  },
  {
   "cell_type": "code",
   "execution_count": 19,
   "metadata": {
    "collapsed": true
   },
   "outputs": [],
   "source": [
    "classes = model.predict(x_test)"
   ]
  },
  {
   "cell_type": "code",
   "execution_count": 20,
   "metadata": {},
   "outputs": [
    {
     "data": {
      "text/plain": [
       "array([[ 0.01001523,  0.10371789,  0.10862169,  0.98747289]], dtype=float32)"
      ]
     },
     "execution_count": 20,
     "metadata": {},
     "output_type": "execute_result"
    }
   ],
   "source": [
    "classes"
   ]
  },
  {
   "cell_type": "code",
   "execution_count": 21,
   "metadata": {},
   "outputs": [
    {
     "data": {
      "text/plain": [
       "array(['0.012085', '0.0949361', '0.111084', '0.989192'], dtype=object)"
      ]
     },
     "execution_count": 21,
     "metadata": {},
     "output_type": "execute_result"
    }
   ],
   "source": [
    "dataset2.values[25,1:5]"
   ]
  },
  {
   "cell_type": "code",
   "execution_count": null,
   "metadata": {
    "collapsed": true
   },
   "outputs": [],
   "source": []
  }
 ],
 "metadata": {
  "kernelspec": {
   "display_name": "Python 3",
   "language": "python",
   "name": "python3"
  },
  "language_info": {
   "codemirror_mode": {
    "name": "ipython",
    "version": 2
   },
   "file_extension": ".py",
   "mimetype": "text/x-python",
   "name": "python",
   "nbconvert_exporter": "python",
   "pygments_lexer": "ipython2",
   "version": "2.7.12"
  }
 },
 "nbformat": 4,
 "nbformat_minor": 2
}
