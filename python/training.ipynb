{
 "cells": [
  {
   "cell_type": "code",
   "execution_count": 1,
   "id": "482e0ecb",
   "metadata": {},
   "outputs": [],
   "source": [
    "import numpy as np\n",
    "import pandas as pd\n",
    "import time\n",
    "from scipy import stats\n",
    "from sklearn.preprocessing import MinMaxScaler\n",
    "import joblib\n",
    "import matplotlib.pyplot as plt\n",
    "from mpl_toolkits.mplot3d import Axes3D\n",
    "import seaborn as sns\n",
    "import matplotlib\n",
    "import os\n",
    "# %matplotlib notebook\n",
    "%matplotlib inline"
   ]
  },
  {
   "cell_type": "code",
   "execution_count": 2,
   "id": "23306a2e",
   "metadata": {},
   "outputs": [],
   "source": [
    "body_part = \"shoulder_right\"\n",
    "dataset = pd.read_csv('./data/' + body_part + '_elbow.log', delim_whitespace=True,\n",
    "                          header=0)\n",
    "dataset = dataset[(np.abs(stats.zscore(dataset)) < 3).all(axis=1)]"
   ]
  },
  {
   "cell_type": "code",
   "execution_count": 3,
   "id": "026edec2",
   "metadata": {},
   "outputs": [
    {
     "name": "stdout",
     "output_type": "stream",
     "text": [
      "161900 values\n",
      "161900 values after filtering outliers\n",
      "max euler 1.4966784307150605\n",
      "min euler -2.436687779599465\n"
     ]
    }
   ],
   "source": [
    "dataset = dataset.values[1:len(dataset)-1,0:]\n",
    "# np.random.shuffle(dataset)\n",
    "\n",
    "print('%d values'%(len(dataset)))\n",
    "\n",
    "dataset = dataset[abs(dataset[:,12])!=0.0,:]\n",
    "dataset = dataset[abs(dataset[:,13])!=0.0,:]\n",
    "dataset = dataset[abs(dataset[:,14])!=0.0,:]\n",
    "print('%d values after filtering outliers'%(len(dataset)))\n",
    "\n",
    "euler_set = dataset[:, 12:15]\n",
    "print('max euler ' + str(np.amax(euler_set)))\n",
    "print('min euler ' + str(np.amin(euler_set)))\n",
    "sensors_set = dataset[:, :12]"
   ]
  },
  {
   "cell_type": "code",
   "execution_count": 4,
   "id": "a18c2851",
   "metadata": {},
   "outputs": [],
   "source": [
    "sin_cos_set = np.hstack([np.sin(euler_set), np.cos(euler_set)])"
   ]
  },
  {
   "cell_type": "code",
   "execution_count": 5,
   "id": "29089bf3",
   "metadata": {},
   "outputs": [],
   "source": [
    "sensors_scaler = MinMaxScaler(feature_range=(-1., 1.))\n",
    "sensors_set = sensors_scaler.fit_transform(sensors_set)"
   ]
  },
  {
   "cell_type": "code",
   "execution_count": 6,
   "id": "b1825d31",
   "metadata": {},
   "outputs": [],
   "source": [
    "data_split = 0.7\n",
    "split_idx = int(len(sensors_set)*data_split)\n",
    "\n",
    "data_in_train = sensors_set[:split_idx,:]\n",
    "data_out_train = sin_cos_set[:split_idx,:]\n",
    "data_in_test = sensors_set[split_idx:,:]\n",
    "data_out_test = sin_cos_set[split_idx:,:]"
   ]
  },
  {
   "cell_type": "markdown",
   "id": "5182f02f",
   "metadata": {},
   "source": [
    "## Train model"
   ]
  },
  {
   "cell_type": "code",
   "execution_count": 7,
   "id": "81e0317f",
   "metadata": {},
   "outputs": [
    {
     "name": "stdout",
     "output_type": "stream",
     "text": [
      "WARNING:tensorflow:From /home/roboy/anaconda3/envs/roboy/lib/python3.8/site-packages/tensorflow/python/compat/v2_compat.py:96: disable_resource_variables (from tensorflow.python.ops.variable_scope) is deprecated and will be removed in a future version.\n",
      "Instructions for updating:\n",
      "non-resource variables are not supported in the long term\n"
     ]
    }
   ],
   "source": [
    "from nn_model import NeuralNetworkModel"
   ]
  },
  {
   "cell_type": "code",
   "execution_count": 8,
   "id": "3d864628",
   "metadata": {},
   "outputs": [
    {
     "name": "stderr",
     "output_type": "stream",
     "text": [
      "/home/roboy/anaconda3/envs/roboy/lib/python3.8/site-packages/tensorflow/python/keras/legacy_tf_layers/core.py:171: UserWarning: `tf.layers.dense` is deprecated and will be removed in a future version. Please use `tf.keras.layers.Dense` instead.\n",
      "  warnings.warn('`tf.layers.dense` is deprecated and '\n",
      "/home/roboy/anaconda3/envs/roboy/lib/python3.8/site-packages/tensorflow/python/keras/engine/base_layer_v1.py:1719: UserWarning: `layer.apply` is deprecated and will be removed in a future version. Please use `layer.__call__` method instead.\n",
      "  warnings.warn('`layer.apply` is deprecated and '\n"
     ]
    },
    {
     "name": "stdout",
     "output_type": "stream",
     "text": [
      "#0000: Traing loss 0.75554, Valid loss 0.15530\n",
      "#0010: Traing loss 0.02330, Valid loss 0.02175\n",
      "#0020: Traing loss 0.00657, Valid loss 0.00630\n",
      "#0030: Traing loss 0.00343, Valid loss 0.00392\n",
      "#0040: Traing loss 0.00238, Valid loss 0.00314\n",
      "#0050: Traing loss 0.00187, Valid loss 0.00264\n",
      "#0060: Traing loss 0.00157, Valid loss 0.00257\n",
      "#0070: Traing loss 0.00136, Valid loss 0.00240\n",
      "#0080: Traing loss 0.00123, Valid loss 0.00218\n",
      "#0090: Traing loss 0.00113, Valid loss 0.00222\n",
      "#0100: Traing loss 0.00106, Valid loss 0.00213\n",
      "#0110: Traing loss 0.00098, Valid loss 0.00196\n",
      "#0120: Traing loss 0.00093, Valid loss 0.00189\n",
      "#0130: Traing loss 0.00088, Valid loss 0.00194\n",
      "#0140: Traing loss 0.00085, Valid loss 0.00189\n",
      "#0150: Traing loss 0.00081, Valid loss 0.00183\n",
      "#0160: Traing loss 0.00079, Valid loss 0.00179\n",
      "#0170: Traing loss 0.00077, Valid loss 0.00181\n",
      "#0180: Traing loss 0.00075, Valid loss 0.00174\n",
      "#0190: Traing loss 0.00072, Valid loss 0.00179\n",
      "#0200: Traing loss 0.00071, Valid loss 0.00171\n",
      "#0210: Traing loss 0.00070, Valid loss 0.00173\n",
      "#0220: Traing loss 0.00067, Valid loss 0.00174\n",
      "#0230: Traing loss 0.00068, Valid loss 0.00170\n",
      "#0240: Traing loss 0.00066, Valid loss 0.00167\n",
      "#0250: Traing loss 0.00065, Valid loss 0.00180\n",
      "#0260: Traing loss 0.00064, Valid loss 0.00181\n",
      "#0270: Traing loss 0.00063, Valid loss 0.00167\n",
      "#0280: Traing loss 0.00063, Valid loss 0.00163\n",
      "#0290: Traing loss 0.00060, Valid loss 0.00163\n",
      "#0300: Traing loss 0.00061, Valid loss 0.00168\n",
      "#0310: Traing loss 0.00060, Valid loss 0.00165\n",
      "#0320: Traing loss 0.00059, Valid loss 0.00168\n",
      "#0330: Traing loss 0.00060, Valid loss 0.00168\n",
      "#0340: Traing loss 0.00057, Valid loss 0.00171\n",
      "#0350: Traing loss 0.00056, Valid loss 0.00179\n",
      "#0360: Traing loss 0.00055, Valid loss 0.00158\n",
      "#0370: Traing loss 0.00054, Valid loss 0.00162\n",
      "#0380: Traing loss 0.00056, Valid loss 0.00165\n",
      "#0390: Traing loss 0.00055, Valid loss 0.00172\n",
      "#0400: Traing loss 0.00055, Valid loss 0.00161\n",
      "#0410: Traing loss 0.00054, Valid loss 0.00167\n",
      "#0420: Traing loss 0.00053, Valid loss 0.00160\n",
      "#0430: Traing loss 0.00054, Valid loss 0.00170\n",
      "#0440: Traing loss 0.00053, Valid loss 0.00151\n",
      "#0450: Traing loss 0.00053, Valid loss 0.00162\n",
      "#0460: Traing loss 0.00052, Valid loss 0.00172\n",
      "#0470: Traing loss 0.00052, Valid loss 0.00167\n",
      "#0480: Traing loss 0.00051, Valid loss 0.00157\n",
      "#0490: Traing loss 0.00051, Valid loss 0.00162\n",
      "#0500: Traing loss 0.00051, Valid loss 0.00164\n",
      "#0510: Traing loss 0.00051, Valid loss 0.00161\n",
      "#0520: Traing loss 0.00050, Valid loss 0.00159\n",
      "#0530: Traing loss 0.00049, Valid loss 0.00159\n",
      "#0540: Traing loss 0.00050, Valid loss 0.00156\n",
      "#0550: Traing loss 0.00050, Valid loss 0.00163\n",
      "#0560: Traing loss 0.00049, Valid loss 0.00159\n",
      "#0570: Traing loss 0.00049, Valid loss 0.00164\n",
      "#0580: Traing loss 0.00049, Valid loss 0.00154\n",
      "#0590: Traing loss 0.00049, Valid loss 0.00152\n",
      "#0600: Traing loss 0.00048, Valid loss 0.00159\n",
      "#0610: Traing loss 0.00049, Valid loss 0.00164\n",
      "#0620: Traing loss 0.00048, Valid loss 0.00153\n",
      "#0630: Traing loss 0.00047, Valid loss 0.00152\n",
      "#0640: Traing loss 0.00048, Valid loss 0.00150\n",
      "#0650: Traing loss 0.00048, Valid loss 0.00163\n",
      "#0660: Traing loss 0.00049, Valid loss 0.00156\n",
      "#0670: Traing loss 0.00047, Valid loss 0.00160\n",
      "#0680: Traing loss 0.00047, Valid loss 0.00152\n",
      "#0690: Traing loss 0.00047, Valid loss 0.00151\n",
      "#0700: Traing loss 0.00047, Valid loss 0.00162\n",
      "#0710: Traing loss 0.00046, Valid loss 0.00155\n",
      "#0720: Traing loss 0.00046, Valid loss 0.00150\n",
      "#0730: Traing loss 0.00046, Valid loss 0.00156\n",
      "#0740: Traing loss 0.00046, Valid loss 0.00152\n",
      "#0750: Traing loss 0.00047, Valid loss 0.00147\n",
      "#0760: Traing loss 0.00044, Valid loss 0.00156\n",
      "#0770: Traing loss 0.00045, Valid loss 0.00153\n",
      "#0780: Traing loss 0.00045, Valid loss 0.00147\n",
      "#0790: Traing loss 0.00045, Valid loss 0.00158\n",
      "#0800: Traing loss 0.00045, Valid loss 0.00153\n",
      "#0810: Traing loss 0.00045, Valid loss 0.00151\n",
      "#0820: Traing loss 0.00046, Valid loss 0.00155\n",
      "#0830: Traing loss 0.00045, Valid loss 0.00158\n",
      "#0840: Traing loss 0.00045, Valid loss 0.00170\n",
      "#0850: Traing loss 0.00044, Valid loss 0.00163\n",
      "#0860: Traing loss 0.00044, Valid loss 0.00155\n",
      "#0870: Traing loss 0.00044, Valid loss 0.00157\n",
      "#0880: Traing loss 0.00045, Valid loss 0.00155\n",
      "#0890: Traing loss 0.00045, Valid loss 0.00160\n",
      "#0900: Traing loss 0.00044, Valid loss 0.00150\n",
      "#0910: Traing loss 0.00043, Valid loss 0.00152\n",
      "#0920: Traing loss 0.00044, Valid loss 0.00159\n",
      "#0930: Traing loss 0.00043, Valid loss 0.00143\n",
      "#0940: Traing loss 0.00043, Valid loss 0.00150\n",
      "#0950: Traing loss 0.00043, Valid loss 0.00156\n",
      "#0960: Traing loss 0.00043, Valid loss 0.00149\n",
      "#0970: Traing loss 0.00043, Valid loss 0.00154\n",
      "#0980: Traing loss 0.00044, Valid loss 0.00156\n",
      "#0990: Traing loss 0.00044, Valid loss 0.00152\n",
      "#1000: Traing loss 0.00044, Valid loss 0.00149\n",
      "#1010: Traing loss 0.00043, Valid loss 0.00152\n",
      "#1020: Traing loss 0.00042, Valid loss 0.00150\n",
      "#1030: Traing loss 0.00042, Valid loss 0.00147\n",
      "#1040: Traing loss 0.00042, Valid loss 0.00161\n",
      "#1050: Traing loss 0.00043, Valid loss 0.00149\n",
      "#1060: Traing loss 0.00043, Valid loss 0.00146\n",
      "#1070: Traing loss 0.00042, Valid loss 0.00150\n",
      "#1080: Traing loss 0.00042, Valid loss 0.00148\n",
      "#1090: Traing loss 0.00043, Valid loss 0.00161\n",
      "#1100: Traing loss 0.00043, Valid loss 0.00153\n",
      "#1110: Traing loss 0.00043, Valid loss 0.00153\n",
      "#1120: Traing loss 0.00042, Valid loss 0.00152\n",
      "#1130: Traing loss 0.00041, Valid loss 0.00157\n",
      "#1140: Traing loss 0.00042, Valid loss 0.00157\n",
      "#1150: Traing loss 0.00041, Valid loss 0.00150\n",
      "#1160: Traing loss 0.00041, Valid loss 0.00155\n",
      "#1170: Traing loss 0.00041, Valid loss 0.00149\n",
      "#1180: Traing loss 0.00041, Valid loss 0.00150\n",
      "#1190: Traing loss 0.00040, Valid loss 0.00159\n",
      "#1200: Traing loss 0.00041, Valid loss 0.00148\n",
      "#1210: Traing loss 0.00041, Valid loss 0.00148\n",
      "#1220: Traing loss 0.00041, Valid loss 0.00154\n",
      "#1230: Traing loss 0.00041, Valid loss 0.00146\n",
      "#1240: Traing loss 0.00041, Valid loss 0.00147\n",
      "#1250: Traing loss 0.00041, Valid loss 0.00144\n",
      "#1260: Traing loss 0.00040, Valid loss 0.00156\n",
      "#1270: Traing loss 0.00040, Valid loss 0.00148\n",
      "#1280: Traing loss 0.00041, Valid loss 0.00145\n",
      "#1290: Traing loss 0.00041, Valid loss 0.00145\n",
      "#1300: Traing loss 0.00040, Valid loss 0.00147\n",
      "#1310: Traing loss 0.00040, Valid loss 0.00153\n",
      "#1320: Traing loss 0.00038, Valid loss 0.00149\n",
      "#1330: Traing loss 0.00041, Valid loss 0.00145\n",
      "#1340: Traing loss 0.00040, Valid loss 0.00146\n",
      "#1350: Traing loss 0.00040, Valid loss 0.00148\n",
      "#1360: Traing loss 0.00040, Valid loss 0.00141\n",
      "Stop training after 1369 iterations\n"
     ]
    }
   ],
   "source": [
    "model_path = './output/'+body_part+'_tanh'\n",
    "\n",
    "if not os.path.exists(model_path):\n",
    "    os.makedirs(model_path)\n",
    "\n",
    "model_name = model_path+'/best_model'\n",
    "joblib.dump(sensors_scaler, model_path+'/scaler.pkl') \n",
    "\n",
    "model = NeuralNetworkModel()\n",
    "model.fit(x=data_in_train, y=data_out_train, x_val=data_in_test, y_val=data_out_test, save_path=model_name, \n",
    "         iteration=3000, patience=300, batch_size=1000)"
   ]
  },
  {
   "cell_type": "code",
   "execution_count": null,
   "id": "7534f759",
   "metadata": {},
   "outputs": [],
   "source": []
  }
 ],
 "metadata": {
  "kernelspec": {
   "display_name": "Python 3",
   "language": "python",
   "name": "python3"
  },
  "language_info": {
   "codemirror_mode": {
    "name": "ipython",
    "version": 3
   },
   "file_extension": ".py",
   "mimetype": "text/x-python",
   "name": "python",
   "nbconvert_exporter": "python",
   "pygments_lexer": "ipython3",
   "version": "3.8.8"
  }
 },
 "nbformat": 4,
 "nbformat_minor": 5
}
